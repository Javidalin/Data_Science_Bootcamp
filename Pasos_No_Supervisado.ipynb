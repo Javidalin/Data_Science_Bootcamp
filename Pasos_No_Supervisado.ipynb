{
 "cells": [
  {
   "cell_type": "markdown",
   "metadata": {},
   "source": [
    "1. Problema no supervisado\n",
    "2. MiniEDA (analizado dos a dos las relaciones entre las variables)\n",
    "3. Clusterizamos y obtenemos grupos\n",
    "4. Validamos visualmente que los clusters tienen sentido Y negocio está de acuerdo\n",
    "5. Necesitan nuevas predicciones de nuevas instancias sobre los clusters\n",
    "    Esto es un problema porque los no supervisados NO predicen, así que:\n",
    "        - O unimos todo (y buena suerte) para volver a clusterizar desde cero\n",
    "        - O entrenamos un supervisado <- Optamos por esto\n",
    "6. Unimos nuestras etiquetas al dataset -> Problema Supervisado!!! (ya tenemos etiquetas!!!)\n",
    "7. Ahora nuestros datos están etiquetados y los datos sobre los que predecir son una incógnita\n",
    "8. Problema supervisado\n",
    "9. Estudio la distribución del target\n",
    "10. Divido en train-test\n",
    "11. MiniEDA (ya está hecho, ya sabemos que Cafeina-Taurina es importante)\n",
    "12. Escogeríamos modelos\n",
    "13. Entrenamiento y elección del mejor por validación cruzada\n",
    "14. Optimización de hiperparámetros\n",
    "15. Evaluación contra el test\n",
    "16. Predicción de las nuevas bebidas"
   ]
  }
 ],
 "metadata": {
  "language_info": {
   "name": "python"
  }
 },
 "nbformat": 4,
 "nbformat_minor": 2
}
